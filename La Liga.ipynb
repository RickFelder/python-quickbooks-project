{
 "cells": [
  {
   "cell_type": "markdown",
   "metadata": {
    "collapsed": true
   },
   "source": [
    "# Project: La Liga"
   ]
  },
  {
   "cell_type": "markdown",
   "metadata": {},
   "source": [
    "### Dear Participant,\n",
    "\n",
    "Please find below the Project for this course. This is an individual assignment. \n",
    "\n",
    "#### Laliga.csv\n",
    "\n",
    "Think of yourself, currently working as a Business analyst in one of the top sports company. The senior management team has asked you to come up with metrics with which they can gauge which team will win the upcoming La Liga cup (Football tournament).\n",
    "\n",
    "The data set contains information on all the teams so far participated in all the past tournaments. It has data about how many goals each team scored, conceded, how many times they came within first 6 positions, how many seasons they have qualified, their best position in the past etc.\n",
    "\n",
    " \n",
    "\n",
    "You are required to do the following:\n",
    "\n",
    "1. Read the data set and replace dashes with 0 to make sure you can perform arithmetic operations on the data. (2.5 points)\n",
    "2. Print all the teams which have started playing between 1930-1980. (5 points)\n",
    "3. Print the list of teams which came Top 5 in terms of points (2.5 points)\n",
    "4. Write a function with name “Goal_diff_count” which should return all the teams with their Goal Differences. Using the same function, find the team which has maximum and minimum goal difference. (5 points)\n",
    "Goal_diff_count = GoalsFor - GoalsAgainst\n",
    "5. Create a new column with name “Winning Percent” and append it to the data set (5 points)\n",
    "\n",
    "Percentage of Winning = (GamesWon / GamesPlayed)*100\n",
    "\n",
    "If there are any numerical error, replace it with 0%\n",
    "\n",
    "Print the top 5 teams which has the highest Winning percentage\n",
    "\n",
    " 6. Group teams based on their “Best position” and print the sum of their points for all positions (10 points)\n",
    "\n",
    "Eg: Best Position     Points\n",
    "\n",
    "         1                   25000\n",
    "\n",
    "         2                    7000\n",
    "\n",
    "Please Note:\n",
    "\n",
    "- Mention the steps in a new Python notebook and answer with the codes.\n",
    "- The points for each question is mentioned above.\n",
    "- Total marks allotted for this assignment is 30.\n",
    " \n",
    "\n",
    "#### Regards\n",
    "#### Program Office"
   ]
  },
  {
   "cell_type": "code",
   "execution_count": 114,
   "metadata": {},
   "outputs": [],
   "source": [
    "import numpy as np\n",
    "import pandas as pd"
   ]
  },
  {
   "cell_type": "code",
   "execution_count": 115,
   "metadata": {},
   "outputs": [],
   "source": [
    "url = 'https://raw.githubusercontent.com/RickFelder/Statistics/main/Laliga.csv'\n",
    "laliga = pd.read_csv(url)"
   ]
  },
  {
   "cell_type": "code",
   "execution_count": 116,
   "metadata": {},
   "outputs": [
    {
     "data": {
      "text/html": [
       "<div>\n",
       "<style scoped>\n",
       "    .dataframe tbody tr th:only-of-type {\n",
       "        vertical-align: middle;\n",
       "    }\n",
       "\n",
       "    .dataframe tbody tr th {\n",
       "        vertical-align: top;\n",
       "    }\n",
       "\n",
       "    .dataframe thead th {\n",
       "        text-align: right;\n",
       "    }\n",
       "</style>\n",
       "<table border=\"1\" class=\"dataframe\">\n",
       "  <thead>\n",
       "    <tr style=\"text-align: right;\">\n",
       "      <th></th>\n",
       "      <th>Pos</th>\n",
       "      <th>Team</th>\n",
       "      <th>Seasons</th>\n",
       "      <th>Points</th>\n",
       "      <th>GamesPlayed</th>\n",
       "      <th>GamesWon</th>\n",
       "      <th>GamesDrawn</th>\n",
       "      <th>GamesLost</th>\n",
       "      <th>GoalsFor</th>\n",
       "      <th>GoalsAgainst</th>\n",
       "      <th>Champion</th>\n",
       "      <th>Runner-up</th>\n",
       "      <th>Third</th>\n",
       "      <th>Fourth</th>\n",
       "      <th>Fifth</th>\n",
       "      <th>Sixth</th>\n",
       "      <th>T</th>\n",
       "      <th>Debut</th>\n",
       "      <th>Since/LastApp</th>\n",
       "      <th>BestPosition</th>\n",
       "    </tr>\n",
       "  </thead>\n",
       "  <tbody>\n",
       "    <tr>\n",
       "      <th>56</th>\n",
       "      <td>57</td>\n",
       "      <td>Xerez</td>\n",
       "      <td>1</td>\n",
       "      <td>34</td>\n",
       "      <td>38</td>\n",
       "      <td>8</td>\n",
       "      <td>10</td>\n",
       "      <td>20</td>\n",
       "      <td>38</td>\n",
       "      <td>66</td>\n",
       "      <td>-</td>\n",
       "      <td>-</td>\n",
       "      <td>-</td>\n",
       "      <td>-</td>\n",
       "      <td>-</td>\n",
       "      <td>-</td>\n",
       "      <td>-</td>\n",
       "      <td>2009-10</td>\n",
       "      <td>2009-10</td>\n",
       "      <td>20</td>\n",
       "    </tr>\n",
       "    <tr>\n",
       "      <th>57</th>\n",
       "      <td>58</td>\n",
       "      <td>Condal</td>\n",
       "      <td>1</td>\n",
       "      <td>22</td>\n",
       "      <td>30</td>\n",
       "      <td>7</td>\n",
       "      <td>8</td>\n",
       "      <td>15</td>\n",
       "      <td>37</td>\n",
       "      <td>57</td>\n",
       "      <td>-</td>\n",
       "      <td>-</td>\n",
       "      <td>-</td>\n",
       "      <td>-</td>\n",
       "      <td>-</td>\n",
       "      <td>-</td>\n",
       "      <td>-</td>\n",
       "      <td>1956-57</td>\n",
       "      <td>1956-57</td>\n",
       "      <td>16</td>\n",
       "    </tr>\n",
       "    <tr>\n",
       "      <th>58</th>\n",
       "      <td>59</td>\n",
       "      <td>Atletico Tetuan</td>\n",
       "      <td>1</td>\n",
       "      <td>19</td>\n",
       "      <td>30</td>\n",
       "      <td>7</td>\n",
       "      <td>5</td>\n",
       "      <td>18</td>\n",
       "      <td>51</td>\n",
       "      <td>85</td>\n",
       "      <td>-</td>\n",
       "      <td>-</td>\n",
       "      <td>-</td>\n",
       "      <td>-</td>\n",
       "      <td>-</td>\n",
       "      <td>-</td>\n",
       "      <td>-</td>\n",
       "      <td>1951-52</td>\n",
       "      <td>1951-52</td>\n",
       "      <td>16</td>\n",
       "    </tr>\n",
       "    <tr>\n",
       "      <th>59</th>\n",
       "      <td>60</td>\n",
       "      <td>Cultural Leonesa</td>\n",
       "      <td>1</td>\n",
       "      <td>14</td>\n",
       "      <td>30</td>\n",
       "      <td>5</td>\n",
       "      <td>4</td>\n",
       "      <td>21</td>\n",
       "      <td>34</td>\n",
       "      <td>65</td>\n",
       "      <td>-</td>\n",
       "      <td>-</td>\n",
       "      <td>-</td>\n",
       "      <td>-</td>\n",
       "      <td>-</td>\n",
       "      <td>-</td>\n",
       "      <td>-</td>\n",
       "      <td>1955-56</td>\n",
       "      <td>1955-56</td>\n",
       "      <td>15</td>\n",
       "    </tr>\n",
       "    <tr>\n",
       "      <th>60</th>\n",
       "      <td>61</td>\n",
       "      <td>Girona</td>\n",
       "      <td>1</td>\n",
       "      <td>-</td>\n",
       "      <td>-</td>\n",
       "      <td>-</td>\n",
       "      <td>-</td>\n",
       "      <td>-</td>\n",
       "      <td>-</td>\n",
       "      <td>-</td>\n",
       "      <td>-</td>\n",
       "      <td>-</td>\n",
       "      <td>-</td>\n",
       "      <td>-</td>\n",
       "      <td>-</td>\n",
       "      <td>-</td>\n",
       "      <td>-</td>\n",
       "      <td>2017-18</td>\n",
       "      <td>2017-18</td>\n",
       "      <td>9</td>\n",
       "    </tr>\n",
       "  </tbody>\n",
       "</table>\n",
       "</div>"
      ],
      "text/plain": [
       "    Pos              Team  Seasons Points GamesPlayed GamesWon GamesDrawn  \\\n",
       "56   57             Xerez        1     34          38        8         10   \n",
       "57   58            Condal        1     22          30        7          8   \n",
       "58   59   Atletico Tetuan        1     19          30        7          5   \n",
       "59   60  Cultural Leonesa        1     14          30        5          4   \n",
       "60   61            Girona        1      -           -        -          -   \n",
       "\n",
       "   GamesLost GoalsFor GoalsAgainst Champion Runner-up Third Fourth Fifth  \\\n",
       "56        20       38           66        -         -     -      -     -   \n",
       "57        15       37           57        -         -     -      -     -   \n",
       "58        18       51           85        -         -     -      -     -   \n",
       "59        21       34           65        -         -     -      -     -   \n",
       "60         -        -            -        -         -     -      -     -   \n",
       "\n",
       "   Sixth  T    Debut Since/LastApp  BestPosition  \n",
       "56     -  -  2009-10       2009-10            20  \n",
       "57     -  -  1956-57       1956-57            16  \n",
       "58     -  -  1951-52       1951-52            16  \n",
       "59     -  -  1955-56       1955-56            15  \n",
       "60     -  -  2017-18       2017-18             9  "
      ]
     },
     "execution_count": 116,
     "metadata": {},
     "output_type": "execute_result"
    }
   ],
   "source": [
    "laliga.tail()"
   ]
  },
  {
   "cell_type": "markdown",
   "metadata": {},
   "source": [
    "## 1. Read the data set and replace dashes with 0 to make sure you can perform arithmetic operations on the data. (2.5 points)"
   ]
  },
  {
   "cell_type": "code",
   "execution_count": 117,
   "metadata": {},
   "outputs": [],
   "source": [
    "laliga.replace('-',0,inplace=True)"
   ]
  },
  {
   "cell_type": "markdown",
   "metadata": {},
   "source": [
    "## 2. Print all the teams which have started playing between 1930-1980. (5 points)"
   ]
  },
  {
   "cell_type": "code",
   "execution_count": 118,
   "metadata": {},
   "outputs": [
    {
     "name": "stdout",
     "output_type": "stream",
     "text": [
      "<class 'pandas.core.frame.DataFrame'>\n",
      "RangeIndex: 61 entries, 0 to 60\n",
      "Data columns (total 20 columns):\n",
      " #   Column         Non-Null Count  Dtype \n",
      "---  ------         --------------  ----- \n",
      " 0   Pos            61 non-null     int64 \n",
      " 1   Team           61 non-null     object\n",
      " 2   Seasons        61 non-null     int64 \n",
      " 3   Points         61 non-null     object\n",
      " 4   GamesPlayed    61 non-null     object\n",
      " 5   GamesWon       61 non-null     object\n",
      " 6   GamesDrawn     61 non-null     object\n",
      " 7   GamesLost      61 non-null     object\n",
      " 8   GoalsFor       61 non-null     object\n",
      " 9   GoalsAgainst   61 non-null     object\n",
      " 10  Champion       61 non-null     object\n",
      " 11  Runner-up      61 non-null     object\n",
      " 12  Third          61 non-null     object\n",
      " 13  Fourth         61 non-null     object\n",
      " 14  Fifth          61 non-null     object\n",
      " 15  Sixth          61 non-null     object\n",
      " 16  T              61 non-null     object\n",
      " 17  Debut          61 non-null     object\n",
      " 18  Since/LastApp  61 non-null     object\n",
      " 19  BestPosition   61 non-null     int64 \n",
      "dtypes: int64(3), object(17)\n",
      "memory usage: 9.7+ KB\n"
     ]
    }
   ],
   "source": [
    "laliga.info()"
   ]
  },
  {
   "cell_type": "code",
   "execution_count": 119,
   "metadata": {},
   "outputs": [
    {
     "name": "stdout",
     "output_type": "stream",
     "text": [
      "Teams That Started Playing between 1930-1980 :\n",
      "     Pos                 Team  Seasons Points GamesPlayed GamesWon GamesDrawn  \\\n",
      "3     4             Valencia       82   3386        2664     1187        616   \n",
      "5     6              Sevilla       73   2819        2408      990        531   \n",
      "8     9             Zaragoza       58   2109        1986      698        522   \n",
      "9    10           Real Betis       51   1884        1728      606        440   \n",
      "10   11  Deportivo La Coruna       45   1814        1530      563        392   \n",
      "11   12           Celta Vigo       51   1789        1698      586        389   \n",
      "12   13           Valladolid       42   1471        1466      463        384   \n",
      "14   15       Sporting Gijon       43   1389        1458      471        358   \n",
      "15   16              Osasuna       37   1351        1318      426        327   \n",
      "16   17               Malaga       36   1314        1255      390        330   \n",
      "17   18               Oviedo       38   1174        1192      408        292   \n",
      "18   19             Mallorca       27   1148         988      333        256   \n",
      "19   20           Las Palmas       33   1020        1096      367        242   \n",
      "21   22              Granada       23    667         742      218        175   \n",
      "22   23       Rayo Vallecano       17    662         652      189        148   \n",
      "23   24                Elche       21    606         678      203        180   \n",
      "25   26             Hercules       20    538         628      184        149   \n",
      "26   27             Tenerife       13    510         494      155        128   \n",
      "27   28               Murcia       18    445         586      145        143   \n",
      "28   29               Alaves       12    421         380      125         81   \n",
      "29   30              Levante       11    416         402      113         95   \n",
      "30   31            Salamanca       12    375         423      123        102   \n",
      "31   32             Sabadell       14    353         426      129         95   \n",
      "32   33                Cadiz       12    343         448      104        127   \n",
      "34   35            Castellon       11    285         334      103         79   \n",
      "37   38              Cordoba        9    230         282       82         63   \n",
      "39   40           Recreativo        5    188         186       50         46   \n",
      "40   41            Burgos CF        6    168         204       59         50   \n",
      "41   42           Pontevedra        6    150         180       53         44   \n",
      "46   47            Gimnastic        4     91         116       34         16   \n",
      "49   50             Alcoyano        4     76         108       30         16   \n",
      "50   51                 Jaen        3     71          90       29         13   \n",
      "52   53           AD Almeria        2     52          68       17         18   \n",
      "54   55               Lleida        2     40          68       13         14   \n",
      "57   58               Condal        1     22          30        7          8   \n",
      "58   59      Atletico Tetuan        1     19          30        7          5   \n",
      "59   60     Cultural Leonesa        1     14          30        5          4   \n",
      "\n",
      "   GamesLost GoalsFor GoalsAgainst Champion Runner-up Third Fourth Fifth  \\\n",
      "3        861     4398         3469        6         6    10     11    10   \n",
      "5        887     3680         3373        1         4     4      5    12   \n",
      "8        766     2683         2847        0         1     4      5     4   \n",
      "9        682     2159         2492        1         0     2      3     4   \n",
      "10       575     2052         2188        1         5     4      1     0   \n",
      "11       723     2278         2624        0         0     0      2     4   \n",
      "12       619     1767         2180        0         0     0      1     1   \n",
      "14       629     1753         2152        0         1     1      2     2   \n",
      "15       565     1500         1834        0         0     0      2     2   \n",
      "16       535     1421         1763        0         0     0      1     0   \n",
      "17       492     1642         1951        0         0     3      2     2   \n",
      "18       399     1182         1371        0         0     2      0     2   \n",
      "19       487     1347         1746        0         1     1      1     1   \n",
      "21       349      819         1157        0         0     0      0     0   \n",
      "22       305      760         1088        0         0     0      0     0   \n",
      "23       295      750         1022        0         0     0      0     1   \n",
      "25       295      716         1050        0         0     0      0     1   \n",
      "26       211      619          744        0         0     0      0     2   \n",
      "27       298      607          992        0         0     0      0     0   \n",
      "28       174      458          623        0         0     0      0     0   \n",
      "29       194      430          632        0         0     0      0     0   \n",
      "30       198      422          581        0         0     0      0     0   \n",
      "31       202      492          720        0         0     0      1     1   \n",
      "32       217      393          662        0         0     0      0     0   \n",
      "34       152      419          588        0         0     0      1     2   \n",
      "37       137      285          430        0         0     0      0     1   \n",
      "39        90      202          296        0         0     0      0     0   \n",
      "40        95      216          310        0         0     0      0     0   \n",
      "41        83      165          221        0         0     0      0     0   \n",
      "46        66      181          295        0         0     0      0     0   \n",
      "49        62      145          252        0         0     0      0     0   \n",
      "50        48      121          183        0         0     0      0     0   \n",
      "52        33       71          116        0         0     0      0     0   \n",
      "54        41       70          182        0         0     0      0     0   \n",
      "57        15       37           57        0         0     0      0     0   \n",
      "58        18       51           85        0         0     0      0     0   \n",
      "59        21       34           65        0         0     0      0     0   \n",
      "\n",
      "   Sixth   T    Debut Since/LastApp  BestPosition  \n",
      "3      7  50  1931-32       1987-88             1  \n",
      "5      6  32  1934-35       2001-02             1  \n",
      "8      4  18  1939-40       2012-13             2  \n",
      "9      4  14  1932-33       2015-16             1  \n",
      "10     1  12  1941-42       2014-15             1  \n",
      "11     5  11  1939-40       2012-13             4  \n",
      "12     1   3  1948-49       2013-14             4  \n",
      "14     1   7  1944-45       2015-16             2  \n",
      "15     2   6  1935-36       2016-17             4  \n",
      "16     1   2  1949-50       2008-09             4  \n",
      "17     4  11  1933-34       2000-01             3  \n",
      "18     1   5  1960-61       2012-13             3  \n",
      "19     1   5  1951-52       2015-16             2  \n",
      "21     2   2  1941-42       2016-17             6  \n",
      "22     0   0  1977-78       2015-16             8  \n",
      "23     1   2  1959-60       2014-15             5  \n",
      "25     4   5  1935-36       2010-11             5  \n",
      "26     0   2  1961-62       2009-10             5  \n",
      "27     0   0  1940-41       2007-08            11  \n",
      "28     1   1  1930-31       2016-17             6  \n",
      "29     1   1  1963-64       2015-16             6  \n",
      "30     0   0  1974-75       1998-99             7  \n",
      "31     0   2  1943-44       1987-88             4  \n",
      "32     0   0  1977-78       2005-06            12  \n",
      "34     0   3  1941-42       1990-91             4  \n",
      "37     0   1  1962-63       2014-15             5  \n",
      "39     0   0  1978-79       2008-09             8  \n",
      "40     0   0  1971-72       1979-80            12  \n",
      "41     0   0  1963-64       1969-70             7  \n",
      "46     0   0  1947-48       2006-07             7  \n",
      "49     0   0  1945-46       1950-51            10  \n",
      "50     0   0  1953-54       1957-58            14  \n",
      "52     0   0  1979-80       1980-81            10  \n",
      "54     0   0  1950-51       1993-94            16  \n",
      "57     0   0  1956-57       1956-57            16  \n",
      "58     0   0  1951-52       1951-52            16  \n",
      "59     0   0  1955-56       1955-56            15  \n"
     ]
    }
   ],
   "source": [
    "laliga['Debut']=laliga['Debut'].astype(str)\n",
    "Debut_30_80 = laliga[laliga['Debut'].str[:4].between('1930','1980')]\n",
    "print(\"Teams That Started Playing between 1930-1980 :\\n\", Debut_30_80)"
   ]
  },
  {
   "cell_type": "markdown",
   "metadata": {},
   "source": [
    "## 3. Print the list of teams which came Top 5 in terms of points (2.5 points)"
   ]
  },
  {
   "cell_type": "code",
   "execution_count": 120,
   "metadata": {},
   "outputs": [
    {
     "name": "stdout",
     "output_type": "stream",
     "text": [
      "Teams that came Top 5 in terms of Points:\n",
      "               Team  Points\n",
      "0      Real Madrid    4385\n",
      "1        Barcelona    4262\n",
      "2  Atletico Madrid    3442\n",
      "3         Valencia    3386\n",
      "4  Athletic Bilbao    3368\n"
     ]
    }
   ],
   "source": [
    "laliga[\"Points\"] = laliga[\"Points\"].astype(int)\n",
    "laliga_sorted = laliga[['Team','Points']].sort_values('Points',ascending = False)\n",
    "print(\"Teams that came Top 5 in terms of Points:\\n\", laliga_sorted.head())"
   ]
  },
  {
   "cell_type": "markdown",
   "metadata": {},
   "source": [
    "## 4. Write a function with name “Goal_diff_count” which should return all the teams with their Goal Differences. Using the same function, find the team which has maximum and minimum goal difference. (5 points)"
   ]
  },
  {
   "cell_type": "code",
   "execution_count": 144,
   "metadata": {},
   "outputs": [
    {
     "name": "stdout",
     "output_type": "stream",
     "text": [
      "Top 5 Teams with maximum goal difference: \n",
      "               Team  Goal_diff_count\n",
      "0      Real Madrid             2807\n",
      "1        Barcelona             2786\n",
      "2  Atletico Madrid             1225\n",
      "4  Athletic Bilbao              931\n",
      "3         Valencia              929\n",
      "Top 5 Teams with minimum goal difference: \n",
      "                 Team  Goal_diff_count\n",
      "27            Murcia             -385\n",
      "19        Las Palmas             -399\n",
      "14    Sporting Gijon             -399\n",
      "12        Valladolid             -413\n",
      "13  Racing Santander             -525\n"
     ]
    }
   ],
   "source": [
    "laliga['GoalsFor'] = laliga['GoalsFor'].astype(int)\n",
    "laliga['GoalsAgainst'] = laliga['GoalsAgainst'].astype(int)\n",
    "def Goal_diff_count():   \n",
    "     laliga['Goal_diff_count'] = laliga['GoalsFor']-laliga['GoalsAgainst']\n",
    "     return laliga[['Team','Goal_diff_count']]\n",
    "print(\"Top 5 Teams with maximum goal difference: \\n\" , Goal_diff_count().sort_values(by = 'Goal_diff_count',ascending=False).head())\n",
    "print(\"Top 5 Teams with minimum goal difference: \\n\" , Goal_diff_count().sort_values(by = 'Goal_diff_count',ascending=False).tail())"
   ]
  },
  {
   "cell_type": "markdown",
   "metadata": {},
   "source": [
    "## 5. Create a new column with name “Winning Percent” and append it to the data set (5 points)\n",
    "\n",
    "Percentage of Winning = (GamesWon / GamesPlayed)*100\n",
    "\n",
    "If there are any numerical error, replace it with 0%\n",
    "\n",
    "Print the top 5 teams which has the highest Winning percentage"
   ]
  },
  {
   "cell_type": "code",
   "execution_count": 145,
   "metadata": {},
   "outputs": [
    {
     "name": "stdout",
     "output_type": "stream",
     "text": [
      "Top 5 Teams with the highest Winning Percentage: \n",
      "               Team  Winning Percent\n",
      "0      Real Madrid        59.630702\n",
      "1        Barcelona        57.241130\n",
      "2  Atletico Madrid        47.475134\n",
      "3         Valencia        44.557057\n",
      "4  Athletic Bilbao        43.772629\n"
     ]
    }
   ],
   "source": [
    "laliga['GamesWon'] = laliga['GamesWon'].astype(int)\n",
    "laliga['GamesPlayed'] = laliga['GamesPlayed'].astype(int)\n",
    "laliga['Winning Percent'] = ((laliga['GamesWon']/laliga['GamesPlayed'])*100)\n",
    "print(\"Top 5 Teams with the highest Winning Percentage: \\n\", laliga[['Team','Winning Percent']].head(5))"
   ]
  },
  {
   "cell_type": "markdown",
   "metadata": {},
   "source": [
    "## 6. Group teams based on their “Best position” and print the sum of their points for all positions (10 points)\n",
    "\n",
    "Eg: Best Position     Points\n",
    "\n",
    "         1                   25000\n",
    "\n",
    "         2                    7000"
   ]
  },
  {
   "cell_type": "code",
   "execution_count": 156,
   "metadata": {},
   "outputs": [
    {
     "data": {
      "text/plain": [
       "BestPosition\n",
       "1     27933\n",
       "2      6904\n",
       "3      5221\n",
       "4      6563\n",
       "5      1884\n",
       "6      2113\n",
       "7      1186\n",
       "8      1134\n",
       "9        96\n",
       "10      450\n",
       "11      445\n",
       "12      511\n",
       "14       71\n",
       "15       14\n",
       "16       81\n",
       "17      266\n",
       "19       81\n",
       "20       34\n",
       "Name: Points, dtype: int64"
      ]
     },
     "execution_count": 156,
     "metadata": {},
     "output_type": "execute_result"
    }
   ],
   "source": [
    "laliga['Points'] = laliga['Points'].astype(int)\n",
    "laliga['BestPosition'] = laliga['BestPosition'].astype(int)\n",
    "group = laliga[['Team','Points','BestPosition']].groupby('BestPosition')\n",
    "group['Points'].sum()"
   ]
  },
  {
   "cell_type": "markdown",
   "metadata": {},
   "source": [
    "RICARDO MARTíNEZ CAMPOS"
   ]
  }
 ],
 "metadata": {
  "kernelspec": {
   "display_name": "Python 3.7",
   "language": "python",
   "name": "python3"
  },
  "language_info": {
   "codemirror_mode": {
    "name": "ipython",
    "version": 3
   },
   "file_extension": ".py",
   "mimetype": "text/x-python",
   "name": "python",
   "nbconvert_exporter": "python",
   "pygments_lexer": "ipython3",
   "version": "3.7.10"
  }
 },
 "nbformat": 4,
 "nbformat_minor": 1
}
